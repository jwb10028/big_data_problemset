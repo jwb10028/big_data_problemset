{
 "cells": [
  {
   "cell_type": "code",
   "execution_count": 16,
   "id": "d14cac62-0efb-4d77-8beb-4adf85842813",
   "metadata": {},
   "outputs": [],
   "source": [
    "import pymongo\n",
    "from pymongo import MongoClient"
   ]
  },
  {
   "cell_type": "code",
   "execution_count": 17,
   "id": "af14014e-753b-41e1-bd71-cc34ca1bc7f3",
   "metadata": {},
   "outputs": [],
   "source": [
    "client = MongoClient('mongo-csgy-6513-summer.db',\n",
    "                      username='jwb10028',\n",
    "                      password=\"bigdata\",\n",
    "                      authSource = \"bigdata\")\n",
    "db=client.jwb10028\n",
    "db\n",
    "col = db.test\n",
    "myquery = {}\n",
    "mydoc = col.find(myquery)\n",
    "for x in mydoc: print(x) "
   ]
  },
  {
   "cell_type": "code",
   "execution_count": 18,
   "id": "029c6110-1a4f-482e-8222-48f2fa8e915b",
   "metadata": {},
   "outputs": [
    {
     "data": {
      "text/plain": [
       "Database(MongoClient(host=['mongo-csgy-6513-summer.db:27017'], document_class=dict, tz_aware=False, connect=True, authsource='bigdata'), 'jwb10028')"
      ]
     },
     "execution_count": 18,
     "metadata": {},
     "output_type": "execute_result"
    }
   ],
   "source": [
    "db"
   ]
  },
  {
   "cell_type": "code",
   "execution_count": 19,
   "id": "a2096756-2752-4d56-9423-8f3b32a50c8f",
   "metadata": {},
   "outputs": [],
   "source": [
    "import pandas as pd\n",
    "import json\n",
    "\n",
    "# Load the Restaurants CSV into MongoDB\n",
    "restaurants_df = pd.read_csv('data/Restaurants_in_Durham_County_NC.csv', delimiter=';')\n",
    "restaurants_collection = db['restaurants']\n",
    "restaurants_data = restaurants_df.to_dict(orient='records')\n",
    "restaurants_collection.insert_many(restaurants_data)\n",
    "\n",
    "# Load the Foreclosures JSON into MongoDB\n",
    "with open('data/durham-nc-foreclosure-2006-2016.json') as file:\n",
    "    foreclosure_data = json.load(file)\n",
    "    if isinstance(foreclosure_data, list):\n",
    "        db.foreclosures.insert_many(foreclosure_data)\n",
    "    else:\n",
    "        db.foreclosures.insert_one(foreclosure_data)\n",
    "\n"
   ]
  },
  {
   "cell_type": "code",
   "execution_count": 20,
   "id": "8d465fcc-d05c-43da-9eac-92b04cd36c3c",
   "metadata": {},
   "outputs": [
    {
     "name": "stdout",
     "output_type": "stream",
     "text": [
      "{'_id': ObjectId('66bba826f1bab79263bb2211'), 'ID': 58123, 'Premise_Name': 'BROOKDALE DURHAM IFS', 'Premise_Address1': '4434 BEN FRANKLIN BLVD', 'Premise_Address2': nan, 'Premise_City': 'DURHAM', 'Premise_State': 'NC', 'Premise_Zip': '27704', 'Premise_Phone': '(919) 479-9966', 'Hours_Of_Operation': nan, 'Opening_Date': '2003-10-15', 'Closing_Date': nan, 'Seats': 350.0, 'Water': '5 - Municipal/Community', 'Sewage': '3 - Municipal/Community', 'Insp_Freq': 4, 'Est_Group_Desc': 'Nursing Home', 'Risk': 4, 'Smoking_Allowed': 'NO', 'Type_Description': '16 - Institutional Food Service', 'Rpt_Area_Desc': 'Food Service', 'Status': 'ACTIVE', 'Transitional_Type_Desc': 'FOOD', 'geolocation': '36.0467802, -78.8895483'}\n"
     ]
    }
   ],
   "source": [
    "# Step 2: Find the center point\n",
    "query = {\n",
    "    'Rpt_Area_Desc': 'Food Service',\n",
    "    'Seats': {'$gte': 100}\n",
    "}\n",
    "restaurants_cursor = restaurants_collection.find(query)\n",
    "print(restaurants_cursor[0])"
   ]
  },
  {
   "cell_type": "code",
   "execution_count": 21,
   "id": "f13d8f6b-fa0d-4003-a210-3661077bc78c",
   "metadata": {},
   "outputs": [
    {
     "name": "stdout",
     "output_type": "stream",
     "text": [
      "36.0467802, -78.8895483\n"
     ]
    }
   ],
   "source": [
    "# Print the 'geolocation' field for inspection\n",
    "for doc in restaurants_cursor:\n",
    "    print(doc['geolocation'])\n",
    "    break  # Just print the first one to inspect"
   ]
  },
  {
   "cell_type": "code",
   "execution_count": 22,
   "id": "b4712a6a-7a97-45ac-ad04-a614000c3351",
   "metadata": {},
   "outputs": [
    {
     "name": "stdout",
     "output_type": "stream",
     "text": [
      "Center point (Longitude, Latitude): [-78.92125451207154, 35.969243700163126]\n"
     ]
    }
   ],
   "source": [
    "lats = []\n",
    "lons = []\n",
    "\n",
    "for doc in restaurants_cursor:\n",
    "    geolocation = doc['geolocation']\n",
    "    \n",
    "    if isinstance(geolocation, str):\n",
    "        \n",
    "        lat, lon = map(float, geolocation.split(', '))\n",
    "    elif isinstance(geolocation, float):\n",
    "        \n",
    "        lat, lon = geolocation, None  \n",
    "        continue  \n",
    "    else:\n",
    "        # If it's a tuple/list, assume it's already split into lat/lon\n",
    "        lat, lon = geolocation\n",
    "    \n",
    "    lats.append(lat)\n",
    "    lons.append(lon)\n",
    "\n",
    "# Calculate center point\n",
    "center_lat = sum(lats) / len(lats)\n",
    "center_lon = sum(lons) / len(lons)\n",
    "center_point = [center_lon, center_lat]\n",
    "\n",
    "print(f\"Center point (Longitude, Latitude): {center_point}\")"
   ]
  },
  {
   "cell_type": "code",
   "execution_count": 23,
   "id": "37877a7b-414d-4a5d-a560-1312be0a99ea",
   "metadata": {},
   "outputs": [
    {
     "name": "stdout",
     "output_type": "stream",
     "text": [
      "{'_id': ObjectId('66becbfa66469365576485b4'),\n",
      " 'datasetid': 'foreclosure-2006-2016',\n",
      " 'fields': {'address': '217 E CORPORATION ST',\n",
      "            'geocode': [36.0013755, -78.8922549],\n",
      "            'parcel_number': '110138',\n",
      "            'year': '2006'},\n",
      " 'geometry': {'coordinates': [-78.8922549, 36.0013755], 'type': 'Point'},\n",
      " 'record_timestamp': '2017-03-06T12:41:48-05:00',\n",
      " 'recordid': '629979c85b1cc68c1d4ee8cc351050bfe3592c62'}\n"
     ]
    }
   ],
   "source": [
    "from pprint import pprint\n",
    "# Convert foreclosure data to GeoJSON format\n",
    "foreclosures_collection = db['foreclosures']\n",
    "\n",
    "# Print one of the foreclosure documents to inspect its structure\n",
    "foreclosure_sample = foreclosures_collection.find_one()\n",
    "pprint(foreclosure_sample)\n"
   ]
  },
  {
   "cell_type": "code",
   "execution_count": 24,
   "id": "1b9b9e9b-e25c-40b2-8b3a-61afc436182d",
   "metadata": {},
   "outputs": [
    {
     "name": "stdout",
     "output_type": "stream",
     "text": [
      "<pymongo.cursor.Cursor object at 0x7bd465f73d90>\n"
     ]
    }
   ],
   "source": [
    "# Update foreclosure documents to have a GeoJSON formatted 'location' field\n",
    "foreclosures_cursor = foreclosures_collection.find()\n",
    "print(foreclosures_cursor)"
   ]
  },
  {
   "cell_type": "code",
   "execution_count": 25,
   "id": "8429c663-25df-4649-8940-e4524b45abd2",
   "metadata": {},
   "outputs": [
    {
     "name": "stdout",
     "output_type": "stream",
     "text": [
      "No geocode field found in document with _id: 66becbfa66469365576486ae\n",
      "No geocode field found in document with _id: 66becbfa66469365576486b2\n",
      "No geocode field found in document with _id: 66becbfa6646936557648878\n",
      "No geocode field found in document with _id: 66becbfa66469365576488e5\n",
      "No geocode field found in document with _id: 66becbfa6646936557648b21\n",
      "No geocode field found in document with _id: 66becbfa6646936557648bc0\n"
     ]
    },
    {
     "data": {
      "text/plain": [
       "'location_2dsphere'"
      ]
     },
     "execution_count": 25,
     "metadata": {},
     "output_type": "execute_result"
    }
   ],
   "source": [
    "from pymongo import GEOSPHERE\n",
    "\n",
    "for doc in foreclosures_cursor:\n",
    "    # Check if the 'geocode' field exists in the document\n",
    "    if 'geocode' in doc['fields']:\n",
    "        lat, lon = doc['fields']['geocode']  # Access the geocode field directly\n",
    "        geojson_point = {\n",
    "            \"type\": \"Point\",\n",
    "            \"coordinates\": [lon, lat]  # GeoJSON expects [longitude, latitude]\n",
    "        }\n",
    "        foreclosures_collection.update_one(\n",
    "            {\"_id\": doc['_id']},\n",
    "            {\"$set\": {\"location\": geojson_point}}\n",
    "        )\n",
    "    else:\n",
    "        print(f\"No geocode field found in document with _id: {doc['_id']}\")\n",
    "\n",
    "# Ensure 'location' field is indexed for geospatial queries\n",
    "foreclosures_collection.create_index([(\"location\", GEOSPHERE)])\n"
   ]
  },
  {
   "cell_type": "code",
   "execution_count": 26,
   "id": "7f16efc7-d37b-4655-b39b-c44b4b69c696",
   "metadata": {},
   "outputs": [],
   "source": [
    "# Define the center point and the radius (in meters)\n",
    "center_point_geojson = {\"type\": \"Point\", \"coordinates\": center_point}\n",
    "radius = 3218.69  # 2 miles in meters\n",
    "\n",
    "# Perform the geospatial query\n",
    "nearby_foreclosures = foreclosures_collection.find({\n",
    "    \"location\": {\n",
    "        \"$near\": {\n",
    "            \"$geometry\": center_point_geojson,\n",
    "            \"$maxDistance\": radius\n",
    "        }\n",
    "    }\n",
    "})\n",
    "\n"
   ]
  },
  {
   "cell_type": "code",
   "execution_count": 27,
   "id": "ea483a4f-c9e4-4ced-af9d-54fb99f3af6b",
   "metadata": {},
   "outputs": [
    {
     "name": "stdout",
     "output_type": "stream",
     "text": [
      "Number of foreclosures within 2 miles: 524\n"
     ]
    }
   ],
   "source": [
    "# Convert the cursor to a list and then count the number of documents\n",
    "foreclosure_list = list(nearby_foreclosures)\n",
    "foreclosure_count = len(foreclosure_list)\n",
    "\n",
    "print(f\"Number of foreclosures within 2 miles: {foreclosure_count}\")\n"
   ]
  },
  {
   "cell_type": "code",
   "execution_count": 28,
   "id": "60695899-05e6-4081-944d-b7e50bf054e0",
   "metadata": {},
   "outputs": [
    {
     "name": "stdout",
     "output_type": "stream",
     "text": [
      "Total number of foreclosures: 1948\n"
     ]
    }
   ],
   "source": [
    "# Count the total number of documents in the collection\n",
    "total_foreclosures = foreclosures_collection.count_documents({})\n",
    "\n",
    "print(f'Total number of foreclosures: {total_foreclosures}')"
   ]
  },
  {
   "cell_type": "code",
   "execution_count": 29,
   "id": "2a9c510e-8607-467f-aeb0-6f233a6891d1",
   "metadata": {},
   "outputs": [],
   "source": [
    "#foreclosures_collection.delete_many({})"
   ]
  },
  {
   "cell_type": "code",
   "execution_count": null,
   "id": "7a930b8c-bf59-41f6-bc66-62413b4fc92c",
   "metadata": {},
   "outputs": [],
   "source": []
  }
 ],
 "metadata": {
  "kernelspec": {
   "display_name": "Python [conda env:bigdata]",
   "language": "python",
   "name": "conda-env-bigdata-py"
  },
  "language_info": {
   "codemirror_mode": {
    "name": "ipython",
    "version": 3
   },
   "file_extension": ".py",
   "mimetype": "text/x-python",
   "name": "python",
   "nbconvert_exporter": "python",
   "pygments_lexer": "ipython3",
   "version": "3.10.14"
  }
 },
 "nbformat": 4,
 "nbformat_minor": 5
}
